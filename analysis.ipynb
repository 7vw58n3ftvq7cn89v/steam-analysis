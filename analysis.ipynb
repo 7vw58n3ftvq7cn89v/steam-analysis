{
 "cells": [
  {
   "cell_type": "code",
   "execution_count": 2,
   "metadata": {},
   "outputs": [],
   "source": [
    "import pandas as pd\n",
    "import numpy as np\n"
   ]
  },
  {
   "cell_type": "code",
   "execution_count": 27,
   "metadata": {},
   "outputs": [],
   "source": [
    "steam_data = pd.read_csv('game_info.csv')"
   ]
  },
  {
   "cell_type": "code",
   "execution_count": 8,
   "metadata": {},
   "outputs": [
    {
     "data": {
      "text/plain": [
       "0                 date\n",
       "1      2017 年 9 月 15 日\n",
       "2     2023 年 10 月 25 日\n",
       "3     2017 年 12 月 21 日\n",
       "4      2020 年 11 月 4 日\n",
       "5      2019 年 5 月 29 日\n",
       "6      2015 年 12 月 1 日\n",
       "7      2019 年 10 月 1 日\n",
       "8      2024 年 2 月 20 日\n",
       "9      2013 年 8 月 15 日\n",
       "10     2024 年 1 月 25 日\n",
       "11     2016 年 1 月 19 日\n",
       "12     2016 年 2 月 26 日\n",
       "13     2019 年 11 月 5 日\n",
       "14     2018 年 12 月 6 日\n",
       "15     2024 年 2 月 20 日\n",
       "16     2024 年 1 月 24 日\n",
       "17     2021 年 8 月 11 日\n",
       "18     2023 年 9 月 28 日\n",
       "19      2013 年 7 月 9 日\n",
       "Name: date, dtype: object"
      ]
     },
     "execution_count": 8,
     "metadata": {},
     "output_type": "execute_result"
    }
   ],
   "source": [
    "steam_data['date'].head(20)"
   ]
  },
  {
   "cell_type": "code",
   "execution_count": 30,
   "metadata": {},
   "outputs": [
    {
     "data": {
      "text/plain": [
       "0    2017-09-15\n",
       "1    2023-10-25\n",
       "2    2017-12-21\n",
       "3    2020-11-04\n",
       "4    2019-05-29\n",
       "        ...    \n",
       "73   2024-03-08\n",
       "74   2022-02-16\n",
       "75   2024-02-12\n",
       "76   2011-05-16\n",
       "77   2024-04-01\n",
       "Name: date_cleaned, Length: 78, dtype: datetime64[ns]"
      ]
     },
     "execution_count": 30,
     "metadata": {},
     "output_type": "execute_result"
    }
   ],
   "source": [
    "steam_data['date_cleaned'] = pd.to_datetime(steam_data['date'], format='%Y 年 %m 月 %d 日')\n",
    "\n",
    "steam_data['date_cleaned']\n",
    "\n",
    "\n",
    "\n",
    "\n",
    "\n",
    "\n"
   ]
  },
  {
   "cell_type": "code",
   "execution_count": 19,
   "metadata": {},
   "outputs": [
    {
     "data": {
      "text/plain": [
       "0                date\n",
       "1     2017 年 9 月 15 日\n",
       "2    2023 年 10 月 25 日\n",
       "3    2017 年 12 月 21 日\n",
       "4     2020 年 11 月 4 日\n",
       "Name: date, dtype: object"
      ]
     },
     "execution_count": 19,
     "metadata": {},
     "output_type": "execute_result"
    }
   ],
   "source": [
    "five = date_data.head(5)\n",
    "five\n",
    "five =five.apply(lambda x:pd.to_datetime(x, '%Y 年 %m 月 %d 日'))\n"
   ]
  },
  {
   "cell_type": "code",
   "execution_count": 1,
   "metadata": {},
   "outputs": [],
   "source": [
    "import requests\n"
   ]
  },
  {
   "cell_type": "code",
   "execution_count": 21,
   "metadata": {},
   "outputs": [],
   "source": [
    "proxies = { \"http\": None, \"https\": None}\n",
    "\n",
    "headers = {\n",
    "    'accept': 'text/html,application/xhtml+xml,application/xml;q=0.9,image/webp,image/apng,*/*;q=0.8,application/signed-exchange;v=b3;q=0.7',\n",
    "    'accept-encoding': 'gzip, deflate, br',\n",
    "    'accept-language': 'zh-cn,zh;q=0.9,en;q=0.8,en-gb;q=0.7,en-us;q=0.6',\n",
    "    'cache-control': 'max-age=0',\n",
    "    'connection': 'keep-alive',\n",
    "    'host': 'store.steampowered.com',\n",
    "    'referer': 'https://store.steampowered.com/login/?redir=search%2F%3Fterm%3D&redir_ssl=1&snr=1_7_7_230_global-header',\n",
    "    'sec-fetch-dest': 'document',\n",
    "    'sec-fetch-mode': 'navigate',\n",
    "    'sec-fetch-site': 'same-origin',\n",
    "    'Cookie': 'birthtime=1070208001',\n",
    "    'sec-fetch-user': '?1',\n",
    "    'upgrade-insecure-requests': '1',\n",
    "    'user-agent': 'mozilla/5.0 (windows nt 10.0; win64; x64) applewebkit/537.36 (khtml, like gecko) chrome/119.0.0.0 safari/537.36 edg/119.0.0.0',\n",
    "\n",
    "    'sec-ch-ua-platform': \"windows\"\n",
    "}\n",
    "\n",
    "\n",
    "\n"
   ]
  },
  {
   "cell_type": "markdown",
   "metadata": {},
   "source": [
    "测试加cookie：birthtime"
   ]
  },
  {
   "cell_type": "code",
   "execution_count": 25,
   "metadata": {},
   "outputs": [
    {
     "name": "stdout",
     "output_type": "stream",
     "text": [
      "服务器无响应1\n"
     ]
    }
   ],
   "source": [
    "link_age_check = 'https://store.steampowered.com/app/2172860/' # agecheck\n",
    "l = 'https://store.steampowered.com/app/1172470/'\n",
    "\n",
    "try:\n",
    "    r = requests.get(l, proxies=proxies,headers=headers,timeout=2)\n",
    "    print('响应成功')\n",
    "except:\n",
    "    print('服务器无响应1')"
   ]
  }
 ],
 "metadata": {
  "kernelspec": {
   "display_name": "spider",
   "language": "python",
   "name": "python3"
  },
  "language_info": {
   "codemirror_mode": {
    "name": "ipython",
    "version": 3
   },
   "file_extension": ".py",
   "mimetype": "text/x-python",
   "name": "python",
   "nbconvert_exporter": "python",
   "pygments_lexer": "ipython3",
   "version": "3.8.19"
  }
 },
 "nbformat": 4,
 "nbformat_minor": 2
}
